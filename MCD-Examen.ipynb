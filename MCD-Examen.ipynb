{
 "cells": [
  {
   "cell_type": "markdown",
   "metadata": {},
   "source": []
  },
  {
   "cell_type": "code",
   "execution_count": null,
   "metadata": {},
   "outputs": [],
   "source": []
  },
  {
   "cell_type": "code",
   "execution_count": 61,
   "metadata": {},
   "outputs": [],
   "source": []
  },
  {
   "cell_type": "code",
   "execution_count": null,
   "metadata": {},
   "outputs": [],
   "source": [
    "# REVISAR QUE ARCHIVO SE ENCUENTRE EN DIRECTORIO"
   ]
  },
  {
   "cell_type": "code",
   "execution_count": 151,
   "metadata": {},
   "outputs": [
    {
     "name": "stdout",
     "output_type": "stream",
     "text": [
      "\u001b[31m200511COVID19MEXICO.csv\u001b[m\u001b[m* inflammation-03.csv      inflammation-12.csv\r\n",
      "Clase1.ipynb             inflammation-04.csv      small-01.csv\r\n",
      "MCD-Examen.ipynb         inflammation-05.csv      small-02.csv\r\n",
      "Untitled.ipynb           inflammation-06.csv      small-03.csv\r\n",
      "Untitled1.ipynb          inflammation-07.csv      soriana.xlsx\r\n",
      "grafica1.png             inflammation-08.csv      soriana2.csv\r\n",
      "grafica2.png             inflammation-09.csv      tabla1.csv\r\n",
      "inflammation-01.csv      inflammation-10.csv      tabla2.csv\r\n",
      "inflammation-02.csv      inflammation-11.csv\r\n"
     ]
    }
   ],
   "source": [
    "ls"
   ]
  },
  {
   "cell_type": "code",
   "execution_count": null,
   "metadata": {},
   "outputs": [],
   "source": [
    "# LLAMAR PANDAS COMO PD"
   ]
  },
  {
   "cell_type": "code",
   "execution_count": 33,
   "metadata": {},
   "outputs": [],
   "source": [
    "import pandas as pd"
   ]
  },
  {
   "cell_type": "code",
   "execution_count": null,
   "metadata": {},
   "outputs": [],
   "source": [
    "# SE INTENTO JALAR CSV PERO MARCABA ERROR, SE HACE ENCODING"
   ]
  },
  {
   "cell_type": "code",
   "execution_count": 34,
   "metadata": {},
   "outputs": [],
   "source": [
    "df = pd.read_csv(\"200511COVID19MEXICO.csv\",encoding= 'unicode_escape')"
   ]
  },
  {
   "cell_type": "code",
   "execution_count": null,
   "metadata": {},
   "outputs": [],
   "source": [
    "# REVISAR ENCABEZADOS"
   ]
  },
  {
   "cell_type": "code",
   "execution_count": 35,
   "metadata": {
    "scrolled": true
   },
   "outputs": [
    {
     "data": {
      "text/html": [
       "<div>\n",
       "<style scoped>\n",
       "    .dataframe tbody tr th:only-of-type {\n",
       "        vertical-align: middle;\n",
       "    }\n",
       "\n",
       "    .dataframe tbody tr th {\n",
       "        vertical-align: top;\n",
       "    }\n",
       "\n",
       "    .dataframe thead th {\n",
       "        text-align: right;\n",
       "    }\n",
       "</style>\n",
       "<table border=\"1\" class=\"dataframe\">\n",
       "  <thead>\n",
       "    <tr style=\"text-align: right;\">\n",
       "      <th></th>\n",
       "      <th>FECHA_ACTUALIZACION</th>\n",
       "      <th>ID_REGISTRO</th>\n",
       "      <th>ORIGEN</th>\n",
       "      <th>SECTOR</th>\n",
       "      <th>ENTIDAD_UM</th>\n",
       "      <th>SEXO</th>\n",
       "      <th>ENTIDAD_NAC</th>\n",
       "      <th>ENTIDAD_RES</th>\n",
       "      <th>MUNICIPIO_RES</th>\n",
       "      <th>TIPO_PACIENTE</th>\n",
       "      <th>...</th>\n",
       "      <th>CARDIOVASCULAR</th>\n",
       "      <th>OBESIDAD</th>\n",
       "      <th>RENAL_CRONICA</th>\n",
       "      <th>TABAQUISMO</th>\n",
       "      <th>OTRO_CASO</th>\n",
       "      <th>RESULTADO</th>\n",
       "      <th>MIGRANTE</th>\n",
       "      <th>PAIS_NACIONALIDAD</th>\n",
       "      <th>PAIS_ORIGEN</th>\n",
       "      <th>UCI</th>\n",
       "    </tr>\n",
       "  </thead>\n",
       "  <tbody>\n",
       "    <tr>\n",
       "      <th>0</th>\n",
       "      <td>2020-05-11</td>\n",
       "      <td>07f569</td>\n",
       "      <td>2</td>\n",
       "      <td>3</td>\n",
       "      <td>27</td>\n",
       "      <td>2</td>\n",
       "      <td>27</td>\n",
       "      <td>27</td>\n",
       "      <td>4</td>\n",
       "      <td>1</td>\n",
       "      <td>...</td>\n",
       "      <td>1</td>\n",
       "      <td>2</td>\n",
       "      <td>2</td>\n",
       "      <td>2</td>\n",
       "      <td>1</td>\n",
       "      <td>1</td>\n",
       "      <td>99</td>\n",
       "      <td>MÃ©xico</td>\n",
       "      <td>99</td>\n",
       "      <td>97</td>\n",
       "    </tr>\n",
       "    <tr>\n",
       "      <th>1</th>\n",
       "      <td>2020-05-11</td>\n",
       "      <td>0b0e89</td>\n",
       "      <td>2</td>\n",
       "      <td>3</td>\n",
       "      <td>25</td>\n",
       "      <td>2</td>\n",
       "      <td>25</td>\n",
       "      <td>25</td>\n",
       "      <td>6</td>\n",
       "      <td>2</td>\n",
       "      <td>...</td>\n",
       "      <td>2</td>\n",
       "      <td>2</td>\n",
       "      <td>2</td>\n",
       "      <td>1</td>\n",
       "      <td>2</td>\n",
       "      <td>1</td>\n",
       "      <td>99</td>\n",
       "      <td>MÃ©xico</td>\n",
       "      <td>99</td>\n",
       "      <td>2</td>\n",
       "    </tr>\n",
       "    <tr>\n",
       "      <th>2</th>\n",
       "      <td>2020-05-11</td>\n",
       "      <td>0ecd46</td>\n",
       "      <td>2</td>\n",
       "      <td>3</td>\n",
       "      <td>27</td>\n",
       "      <td>1</td>\n",
       "      <td>27</td>\n",
       "      <td>27</td>\n",
       "      <td>4</td>\n",
       "      <td>1</td>\n",
       "      <td>...</td>\n",
       "      <td>2</td>\n",
       "      <td>2</td>\n",
       "      <td>2</td>\n",
       "      <td>2</td>\n",
       "      <td>2</td>\n",
       "      <td>1</td>\n",
       "      <td>99</td>\n",
       "      <td>MÃ©xico</td>\n",
       "      <td>99</td>\n",
       "      <td>97</td>\n",
       "    </tr>\n",
       "    <tr>\n",
       "      <th>3</th>\n",
       "      <td>2020-05-11</td>\n",
       "      <td>12eb62</td>\n",
       "      <td>2</td>\n",
       "      <td>3</td>\n",
       "      <td>25</td>\n",
       "      <td>1</td>\n",
       "      <td>25</td>\n",
       "      <td>25</td>\n",
       "      <td>6</td>\n",
       "      <td>2</td>\n",
       "      <td>...</td>\n",
       "      <td>2</td>\n",
       "      <td>2</td>\n",
       "      <td>2</td>\n",
       "      <td>2</td>\n",
       "      <td>2</td>\n",
       "      <td>1</td>\n",
       "      <td>99</td>\n",
       "      <td>MÃ©xico</td>\n",
       "      <td>99</td>\n",
       "      <td>2</td>\n",
       "    </tr>\n",
       "    <tr>\n",
       "      <th>4</th>\n",
       "      <td>2020-05-11</td>\n",
       "      <td>032c9a</td>\n",
       "      <td>2</td>\n",
       "      <td>3</td>\n",
       "      <td>25</td>\n",
       "      <td>2</td>\n",
       "      <td>25</td>\n",
       "      <td>25</td>\n",
       "      <td>6</td>\n",
       "      <td>2</td>\n",
       "      <td>...</td>\n",
       "      <td>2</td>\n",
       "      <td>2</td>\n",
       "      <td>2</td>\n",
       "      <td>2</td>\n",
       "      <td>2</td>\n",
       "      <td>1</td>\n",
       "      <td>99</td>\n",
       "      <td>MÃ©xico</td>\n",
       "      <td>99</td>\n",
       "      <td>2</td>\n",
       "    </tr>\n",
       "  </tbody>\n",
       "</table>\n",
       "<p>5 rows × 35 columns</p>\n",
       "</div>"
      ],
      "text/plain": [
       "  FECHA_ACTUALIZACION ID_REGISTRO  ORIGEN  SECTOR  ENTIDAD_UM  SEXO  \\\n",
       "0          2020-05-11      07f569       2       3          27     2   \n",
       "1          2020-05-11      0b0e89       2       3          25     2   \n",
       "2          2020-05-11      0ecd46       2       3          27     1   \n",
       "3          2020-05-11      12eb62       2       3          25     1   \n",
       "4          2020-05-11      032c9a       2       3          25     2   \n",
       "\n",
       "   ENTIDAD_NAC  ENTIDAD_RES  MUNICIPIO_RES  TIPO_PACIENTE  ... CARDIOVASCULAR  \\\n",
       "0           27           27              4              1  ...              1   \n",
       "1           25           25              6              2  ...              2   \n",
       "2           27           27              4              1  ...              2   \n",
       "3           25           25              6              2  ...              2   \n",
       "4           25           25              6              2  ...              2   \n",
       "\n",
       "  OBESIDAD RENAL_CRONICA  TABAQUISMO  OTRO_CASO  RESULTADO  MIGRANTE  \\\n",
       "0        2             2           2          1          1        99   \n",
       "1        2             2           1          2          1        99   \n",
       "2        2             2           2          2          1        99   \n",
       "3        2             2           2          2          1        99   \n",
       "4        2             2           2          2          1        99   \n",
       "\n",
       "   PAIS_NACIONALIDAD  PAIS_ORIGEN  UCI  \n",
       "0            MÃ©xico           99   97  \n",
       "1            MÃ©xico           99    2  \n",
       "2            MÃ©xico           99   97  \n",
       "3            MÃ©xico           99    2  \n",
       "4            MÃ©xico           99    2  \n",
       "\n",
       "[5 rows x 35 columns]"
      ]
     },
     "execution_count": 35,
     "metadata": {},
     "output_type": "execute_result"
    }
   ],
   "source": [
    "df.head()"
   ]
  },
  {
   "cell_type": "code",
   "execution_count": null,
   "metadata": {},
   "outputs": [],
   "source": [
    "# HACER UN NUEVO DATA FRAME CON LAS SIGUIENTES COLUMNAS"
   ]
  },
  {
   "cell_type": "code",
   "execution_count": 120,
   "metadata": {},
   "outputs": [],
   "source": [
    "df1 = df[['FECHA_INGRESO','ENTIDAD_UM','FECHA_SINTOMAS','FECHA_DEF','RESULTADO']]"
   ]
  },
  {
   "cell_type": "code",
   "execution_count": 121,
   "metadata": {},
   "outputs": [
    {
     "data": {
      "text/html": [
       "<div>\n",
       "<style scoped>\n",
       "    .dataframe tbody tr th:only-of-type {\n",
       "        vertical-align: middle;\n",
       "    }\n",
       "\n",
       "    .dataframe tbody tr th {\n",
       "        vertical-align: top;\n",
       "    }\n",
       "\n",
       "    .dataframe thead th {\n",
       "        text-align: right;\n",
       "    }\n",
       "</style>\n",
       "<table border=\"1\" class=\"dataframe\">\n",
       "  <thead>\n",
       "    <tr style=\"text-align: right;\">\n",
       "      <th></th>\n",
       "      <th>FECHA_INGRESO</th>\n",
       "      <th>ENTIDAD_UM</th>\n",
       "      <th>FECHA_SINTOMAS</th>\n",
       "      <th>FECHA_DEF</th>\n",
       "      <th>RESULTADO</th>\n",
       "    </tr>\n",
       "  </thead>\n",
       "  <tbody>\n",
       "    <tr>\n",
       "      <th>0</th>\n",
       "      <td>2020-04-03</td>\n",
       "      <td>27</td>\n",
       "      <td>2020-03-29</td>\n",
       "      <td>9999-99-99</td>\n",
       "      <td>1</td>\n",
       "    </tr>\n",
       "    <tr>\n",
       "      <th>1</th>\n",
       "      <td>2020-03-25</td>\n",
       "      <td>25</td>\n",
       "      <td>2020-03-22</td>\n",
       "      <td>2020-03-29</td>\n",
       "      <td>1</td>\n",
       "    </tr>\n",
       "    <tr>\n",
       "      <th>2</th>\n",
       "      <td>2020-03-27</td>\n",
       "      <td>27</td>\n",
       "      <td>2020-03-18</td>\n",
       "      <td>2020-04-05</td>\n",
       "      <td>1</td>\n",
       "    </tr>\n",
       "    <tr>\n",
       "      <th>3</th>\n",
       "      <td>2020-04-05</td>\n",
       "      <td>25</td>\n",
       "      <td>2020-04-04</td>\n",
       "      <td>2020-04-20</td>\n",
       "      <td>1</td>\n",
       "    </tr>\n",
       "    <tr>\n",
       "      <th>4</th>\n",
       "      <td>2020-04-07</td>\n",
       "      <td>25</td>\n",
       "      <td>2020-04-02</td>\n",
       "      <td>2020-04-23</td>\n",
       "      <td>1</td>\n",
       "    </tr>\n",
       "  </tbody>\n",
       "</table>\n",
       "</div>"
      ],
      "text/plain": [
       "  FECHA_INGRESO  ENTIDAD_UM FECHA_SINTOMAS   FECHA_DEF  RESULTADO\n",
       "0    2020-04-03          27     2020-03-29  9999-99-99          1\n",
       "1    2020-03-25          25     2020-03-22  2020-03-29          1\n",
       "2    2020-03-27          27     2020-03-18  2020-04-05          1\n",
       "3    2020-04-05          25     2020-04-04  2020-04-20          1\n",
       "4    2020-04-07          25     2020-04-02  2020-04-23          1"
      ]
     },
     "execution_count": 121,
     "metadata": {},
     "output_type": "execute_result"
    }
   ],
   "source": [
    "df1.head()"
   ]
  },
  {
   "cell_type": "code",
   "execution_count": null,
   "metadata": {},
   "outputs": [],
   "source": [
    "# BUSCAR ESTADO DE SONORA"
   ]
  },
  {
   "cell_type": "code",
   "execution_count": 122,
   "metadata": {},
   "outputs": [],
   "source": [
    "dfsonora = df1[df1['ENTIDAD_UM']==26]"
   ]
  },
  {
   "cell_type": "code",
   "execution_count": 123,
   "metadata": {},
   "outputs": [
    {
     "data": {
      "text/html": [
       "<div>\n",
       "<style scoped>\n",
       "    .dataframe tbody tr th:only-of-type {\n",
       "        vertical-align: middle;\n",
       "    }\n",
       "\n",
       "    .dataframe tbody tr th {\n",
       "        vertical-align: top;\n",
       "    }\n",
       "\n",
       "    .dataframe thead th {\n",
       "        text-align: right;\n",
       "    }\n",
       "</style>\n",
       "<table border=\"1\" class=\"dataframe\">\n",
       "  <thead>\n",
       "    <tr style=\"text-align: right;\">\n",
       "      <th></th>\n",
       "      <th>FECHA_INGRESO</th>\n",
       "      <th>ENTIDAD_UM</th>\n",
       "      <th>FECHA_SINTOMAS</th>\n",
       "      <th>FECHA_DEF</th>\n",
       "      <th>RESULTADO</th>\n",
       "    </tr>\n",
       "  </thead>\n",
       "  <tbody>\n",
       "    <tr>\n",
       "      <th>335</th>\n",
       "      <td>2020-04-14</td>\n",
       "      <td>26</td>\n",
       "      <td>2020-04-06</td>\n",
       "      <td>9999-99-99</td>\n",
       "      <td>1</td>\n",
       "    </tr>\n",
       "    <tr>\n",
       "      <th>956</th>\n",
       "      <td>2020-04-10</td>\n",
       "      <td>26</td>\n",
       "      <td>2020-04-06</td>\n",
       "      <td>9999-99-99</td>\n",
       "      <td>1</td>\n",
       "    </tr>\n",
       "    <tr>\n",
       "      <th>1045</th>\n",
       "      <td>2020-04-20</td>\n",
       "      <td>26</td>\n",
       "      <td>2020-04-14</td>\n",
       "      <td>9999-99-99</td>\n",
       "      <td>1</td>\n",
       "    </tr>\n",
       "    <tr>\n",
       "      <th>1160</th>\n",
       "      <td>2020-04-08</td>\n",
       "      <td>26</td>\n",
       "      <td>2020-04-02</td>\n",
       "      <td>9999-99-99</td>\n",
       "      <td>1</td>\n",
       "    </tr>\n",
       "    <tr>\n",
       "      <th>1288</th>\n",
       "      <td>2020-04-07</td>\n",
       "      <td>26</td>\n",
       "      <td>2020-04-06</td>\n",
       "      <td>9999-99-99</td>\n",
       "      <td>1</td>\n",
       "    </tr>\n",
       "    <tr>\n",
       "      <th>...</th>\n",
       "      <td>...</td>\n",
       "      <td>...</td>\n",
       "      <td>...</td>\n",
       "      <td>...</td>\n",
       "      <td>...</td>\n",
       "    </tr>\n",
       "    <tr>\n",
       "      <th>135039</th>\n",
       "      <td>2020-05-07</td>\n",
       "      <td>26</td>\n",
       "      <td>2020-05-06</td>\n",
       "      <td>9999-99-99</td>\n",
       "      <td>3</td>\n",
       "    </tr>\n",
       "    <tr>\n",
       "      <th>135046</th>\n",
       "      <td>2020-05-09</td>\n",
       "      <td>26</td>\n",
       "      <td>2020-05-04</td>\n",
       "      <td>9999-99-99</td>\n",
       "      <td>3</td>\n",
       "    </tr>\n",
       "    <tr>\n",
       "      <th>135047</th>\n",
       "      <td>2020-05-09</td>\n",
       "      <td>26</td>\n",
       "      <td>2020-05-03</td>\n",
       "      <td>9999-99-99</td>\n",
       "      <td>3</td>\n",
       "    </tr>\n",
       "    <tr>\n",
       "      <th>135068</th>\n",
       "      <td>2020-05-10</td>\n",
       "      <td>26</td>\n",
       "      <td>2020-05-05</td>\n",
       "      <td>9999-99-99</td>\n",
       "      <td>3</td>\n",
       "    </tr>\n",
       "    <tr>\n",
       "      <th>135069</th>\n",
       "      <td>2020-05-10</td>\n",
       "      <td>26</td>\n",
       "      <td>2020-05-02</td>\n",
       "      <td>9999-99-99</td>\n",
       "      <td>3</td>\n",
       "    </tr>\n",
       "  </tbody>\n",
       "</table>\n",
       "<p>2174 rows × 5 columns</p>\n",
       "</div>"
      ],
      "text/plain": [
       "       FECHA_INGRESO  ENTIDAD_UM FECHA_SINTOMAS   FECHA_DEF  RESULTADO\n",
       "335       2020-04-14          26     2020-04-06  9999-99-99          1\n",
       "956       2020-04-10          26     2020-04-06  9999-99-99          1\n",
       "1045      2020-04-20          26     2020-04-14  9999-99-99          1\n",
       "1160      2020-04-08          26     2020-04-02  9999-99-99          1\n",
       "1288      2020-04-07          26     2020-04-06  9999-99-99          1\n",
       "...              ...         ...            ...         ...        ...\n",
       "135039    2020-05-07          26     2020-05-06  9999-99-99          3\n",
       "135046    2020-05-09          26     2020-05-04  9999-99-99          3\n",
       "135047    2020-05-09          26     2020-05-03  9999-99-99          3\n",
       "135068    2020-05-10          26     2020-05-05  9999-99-99          3\n",
       "135069    2020-05-10          26     2020-05-02  9999-99-99          3\n",
       "\n",
       "[2174 rows x 5 columns]"
      ]
     },
     "execution_count": 123,
     "metadata": {},
     "output_type": "execute_result"
    }
   ],
   "source": [
    "dfsonora"
   ]
  },
  {
   "cell_type": "code",
   "execution_count": null,
   "metadata": {},
   "outputs": [],
   "source": [
    "# BUSCAR RESULTADOS POSITIVOS"
   ]
  },
  {
   "cell_type": "code",
   "execution_count": 124,
   "metadata": {},
   "outputs": [],
   "source": [
    "dfsonora=dfsonora[dfsonora['RESULTADO']==1]"
   ]
  },
  {
   "cell_type": "code",
   "execution_count": 125,
   "metadata": {},
   "outputs": [
    {
     "data": {
      "text/html": [
       "<div>\n",
       "<style scoped>\n",
       "    .dataframe tbody tr th:only-of-type {\n",
       "        vertical-align: middle;\n",
       "    }\n",
       "\n",
       "    .dataframe tbody tr th {\n",
       "        vertical-align: top;\n",
       "    }\n",
       "\n",
       "    .dataframe thead th {\n",
       "        text-align: right;\n",
       "    }\n",
       "</style>\n",
       "<table border=\"1\" class=\"dataframe\">\n",
       "  <thead>\n",
       "    <tr style=\"text-align: right;\">\n",
       "      <th></th>\n",
       "      <th>FECHA_INGRESO</th>\n",
       "      <th>ENTIDAD_UM</th>\n",
       "      <th>FECHA_SINTOMAS</th>\n",
       "      <th>FECHA_DEF</th>\n",
       "      <th>RESULTADO</th>\n",
       "    </tr>\n",
       "  </thead>\n",
       "  <tbody>\n",
       "    <tr>\n",
       "      <th>335</th>\n",
       "      <td>2020-04-14</td>\n",
       "      <td>26</td>\n",
       "      <td>2020-04-06</td>\n",
       "      <td>9999-99-99</td>\n",
       "      <td>1</td>\n",
       "    </tr>\n",
       "    <tr>\n",
       "      <th>956</th>\n",
       "      <td>2020-04-10</td>\n",
       "      <td>26</td>\n",
       "      <td>2020-04-06</td>\n",
       "      <td>9999-99-99</td>\n",
       "      <td>1</td>\n",
       "    </tr>\n",
       "    <tr>\n",
       "      <th>1045</th>\n",
       "      <td>2020-04-20</td>\n",
       "      <td>26</td>\n",
       "      <td>2020-04-14</td>\n",
       "      <td>9999-99-99</td>\n",
       "      <td>1</td>\n",
       "    </tr>\n",
       "    <tr>\n",
       "      <th>1160</th>\n",
       "      <td>2020-04-08</td>\n",
       "      <td>26</td>\n",
       "      <td>2020-04-02</td>\n",
       "      <td>9999-99-99</td>\n",
       "      <td>1</td>\n",
       "    </tr>\n",
       "    <tr>\n",
       "      <th>1288</th>\n",
       "      <td>2020-04-07</td>\n",
       "      <td>26</td>\n",
       "      <td>2020-04-06</td>\n",
       "      <td>9999-99-99</td>\n",
       "      <td>1</td>\n",
       "    </tr>\n",
       "  </tbody>\n",
       "</table>\n",
       "</div>"
      ],
      "text/plain": [
       "     FECHA_INGRESO  ENTIDAD_UM FECHA_SINTOMAS   FECHA_DEF  RESULTADO\n",
       "335     2020-04-14          26     2020-04-06  9999-99-99          1\n",
       "956     2020-04-10          26     2020-04-06  9999-99-99          1\n",
       "1045    2020-04-20          26     2020-04-14  9999-99-99          1\n",
       "1160    2020-04-08          26     2020-04-02  9999-99-99          1\n",
       "1288    2020-04-07          26     2020-04-06  9999-99-99          1"
      ]
     },
     "execution_count": 125,
     "metadata": {},
     "output_type": "execute_result"
    }
   ],
   "source": [
    "dfsonora.head()"
   ]
  },
  {
   "cell_type": "code",
   "execution_count": null,
   "metadata": {},
   "outputs": [],
   "source": [
    "# CONFIRMAR QUE NUESTRO NUEVO ARREGLO SOLO TIENE A SONORA"
   ]
  },
  {
   "cell_type": "code",
   "execution_count": 126,
   "metadata": {},
   "outputs": [
    {
     "data": {
      "text/plain": [
       "26.0"
      ]
     },
     "execution_count": 126,
     "metadata": {},
     "output_type": "execute_result"
    }
   ],
   "source": [
    "dfsonora['ENTIDAD_UM'].mean()"
   ]
  },
  {
   "cell_type": "code",
   "execution_count": null,
   "metadata": {},
   "outputs": [],
   "source": [
    "# CONFIRMAR QUE NUESTRO NUEVO ARREGLOO SOLO TIENE POSITIVOS"
   ]
  },
  {
   "cell_type": "code",
   "execution_count": 127,
   "metadata": {},
   "outputs": [
    {
     "data": {
      "text/plain": [
       "1.0"
      ]
     },
     "execution_count": 127,
     "metadata": {},
     "output_type": "execute_result"
    }
   ],
   "source": [
    "dfsonora['RESULTADO'].mean()"
   ]
  },
  {
   "cell_type": "code",
   "execution_count": null,
   "metadata": {},
   "outputs": [],
   "source": [
    "# HACER TABLA CON LAS COLUMNAS DESEADAS"
   ]
  },
  {
   "cell_type": "code",
   "execution_count": 129,
   "metadata": {},
   "outputs": [],
   "source": [
    "dfsonora=dfsonora[['FECHA_INGRESO','FECHA_SINTOMAS','FECHA_DEF']]"
   ]
  },
  {
   "cell_type": "code",
   "execution_count": null,
   "metadata": {},
   "outputs": [],
   "source": [
    "# CREAR ARCHIVO CSV CON TABLA"
   ]
  },
  {
   "cell_type": "code",
   "execution_count": 131,
   "metadata": {},
   "outputs": [],
   "source": [
    "dfsonora.to_csv('tabla1.csv')"
   ]
  },
  {
   "cell_type": "code",
   "execution_count": 139,
   "metadata": {},
   "outputs": [
    {
     "data": {
      "text/html": [
       "<div>\n",
       "<style scoped>\n",
       "    .dataframe tbody tr th:only-of-type {\n",
       "        vertical-align: middle;\n",
       "    }\n",
       "\n",
       "    .dataframe tbody tr th {\n",
       "        vertical-align: top;\n",
       "    }\n",
       "\n",
       "    .dataframe thead th {\n",
       "        text-align: right;\n",
       "    }\n",
       "</style>\n",
       "<table border=\"1\" class=\"dataframe\">\n",
       "  <thead>\n",
       "    <tr style=\"text-align: right;\">\n",
       "      <th></th>\n",
       "      <th>FECHA_INGRESO</th>\n",
       "      <th>FECHA_SINTOMAS</th>\n",
       "      <th>FECHA_DEF</th>\n",
       "    </tr>\n",
       "  </thead>\n",
       "  <tbody>\n",
       "    <tr>\n",
       "      <th>335</th>\n",
       "      <td>2020-04-14</td>\n",
       "      <td>2020-04-06</td>\n",
       "      <td>9999-99-99</td>\n",
       "    </tr>\n",
       "    <tr>\n",
       "      <th>956</th>\n",
       "      <td>2020-04-10</td>\n",
       "      <td>2020-04-06</td>\n",
       "      <td>9999-99-99</td>\n",
       "    </tr>\n",
       "    <tr>\n",
       "      <th>1045</th>\n",
       "      <td>2020-04-20</td>\n",
       "      <td>2020-04-14</td>\n",
       "      <td>9999-99-99</td>\n",
       "    </tr>\n",
       "    <tr>\n",
       "      <th>1160</th>\n",
       "      <td>2020-04-08</td>\n",
       "      <td>2020-04-02</td>\n",
       "      <td>9999-99-99</td>\n",
       "    </tr>\n",
       "    <tr>\n",
       "      <th>1288</th>\n",
       "      <td>2020-04-07</td>\n",
       "      <td>2020-04-06</td>\n",
       "      <td>9999-99-99</td>\n",
       "    </tr>\n",
       "    <tr>\n",
       "      <th>...</th>\n",
       "      <td>...</td>\n",
       "      <td>...</td>\n",
       "      <td>...</td>\n",
       "    </tr>\n",
       "    <tr>\n",
       "      <th>36037</th>\n",
       "      <td>2020-05-06</td>\n",
       "      <td>2020-04-28</td>\n",
       "      <td>9999-99-99</td>\n",
       "    </tr>\n",
       "    <tr>\n",
       "      <th>36039</th>\n",
       "      <td>2020-05-06</td>\n",
       "      <td>2020-04-21</td>\n",
       "      <td>9999-99-99</td>\n",
       "    </tr>\n",
       "    <tr>\n",
       "      <th>36041</th>\n",
       "      <td>2020-05-06</td>\n",
       "      <td>2020-04-30</td>\n",
       "      <td>9999-99-99</td>\n",
       "    </tr>\n",
       "    <tr>\n",
       "      <th>36634</th>\n",
       "      <td>2020-05-07</td>\n",
       "      <td>2020-05-07</td>\n",
       "      <td>9999-99-99</td>\n",
       "    </tr>\n",
       "    <tr>\n",
       "      <th>36636</th>\n",
       "      <td>2020-05-07</td>\n",
       "      <td>2020-05-02</td>\n",
       "      <td>9999-99-99</td>\n",
       "    </tr>\n",
       "  </tbody>\n",
       "</table>\n",
       "<p>505 rows × 3 columns</p>\n",
       "</div>"
      ],
      "text/plain": [
       "      FECHA_INGRESO FECHA_SINTOMAS   FECHA_DEF\n",
       "335      2020-04-14     2020-04-06  9999-99-99\n",
       "956      2020-04-10     2020-04-06  9999-99-99\n",
       "1045     2020-04-20     2020-04-14  9999-99-99\n",
       "1160     2020-04-08     2020-04-02  9999-99-99\n",
       "1288     2020-04-07     2020-04-06  9999-99-99\n",
       "...             ...            ...         ...\n",
       "36037    2020-05-06     2020-04-28  9999-99-99\n",
       "36039    2020-05-06     2020-04-21  9999-99-99\n",
       "36041    2020-05-06     2020-04-30  9999-99-99\n",
       "36634    2020-05-07     2020-05-07  9999-99-99\n",
       "36636    2020-05-07     2020-05-02  9999-99-99\n",
       "\n",
       "[505 rows x 3 columns]"
      ]
     },
     "execution_count": 139,
     "metadata": {},
     "output_type": "execute_result"
    }
   ],
   "source": [
    "dfsonora"
   ]
  },
  {
   "cell_type": "code",
   "execution_count": 62,
   "metadata": {},
   "outputs": [
    {
     "name": "stdout",
     "output_type": "stream",
     "text": [
      "       FECHA_ACTUALIZACION ID_REGISTRO  ORIGEN  SECTOR  ENTIDAD_UM  SEXO  \\\n",
      "0               2020-05-11      07f569       2       3          27     2   \n",
      "1               2020-05-11      0b0e89       2       3          25     2   \n",
      "2               2020-05-11      0ecd46       2       3          27     1   \n",
      "3               2020-05-11      12eb62       2       3          25     1   \n",
      "4               2020-05-11      032c9a       2       3          25     2   \n",
      "...                    ...         ...     ...     ...         ...   ...   \n",
      "135111          2020-05-11      07f104       1      12           9     1   \n",
      "135112          2020-05-11      164d88       1      12           4     1   \n",
      "135113          2020-05-11      0fdace       1      12           5     1   \n",
      "135114          2020-05-11      028993       1      12          31     1   \n",
      "135115          2020-05-11      13238a       1      13          21     2   \n",
      "\n",
      "        ENTIDAD_NAC  ENTIDAD_RES  MUNICIPIO_RES  TIPO_PACIENTE  ...  \\\n",
      "0                27           27              4              1  ...   \n",
      "1                25           25              6              2  ...   \n",
      "2                27           27              4              1  ...   \n",
      "3                25           25              6              2  ...   \n",
      "4                25           25              6              2  ...   \n",
      "...             ...          ...            ...            ...  ...   \n",
      "135111           15            9              5              2  ...   \n",
      "135112            4            4              2              2  ...   \n",
      "135113            5            5             30              1  ...   \n",
      "135114           30           31            102              1  ...   \n",
      "135115           21           21            114              1  ...   \n",
      "\n",
      "       CARDIOVASCULAR OBESIDAD RENAL_CRONICA  TABAQUISMO  OTRO_CASO  \\\n",
      "0                   1        2             2           2          1   \n",
      "1                   2        2             2           1          2   \n",
      "2                   2        2             2           2          2   \n",
      "3                   2        2             2           2          2   \n",
      "4                   2        2             2           2          2   \n",
      "...               ...      ...           ...         ...        ...   \n",
      "135111              2        2             2           2          2   \n",
      "135112              2        2             2           2          2   \n",
      "135113              2        2             2           2          1   \n",
      "135114              2        2             2           2          2   \n",
      "135115              2        2             2           2          1   \n",
      "\n",
      "        RESULTADO  MIGRANTE  PAIS_NACIONALIDAD  PAIS_ORIGEN  UCI  \n",
      "0               1        99            MÃ©xico           99   97  \n",
      "1               1        99            MÃ©xico           99    2  \n",
      "2               1        99            MÃ©xico           99   97  \n",
      "3               1        99            MÃ©xico           99    2  \n",
      "4               1        99            MÃ©xico           99    2  \n",
      "...           ...       ...                ...          ...  ...  \n",
      "135111          3        99            MÃ©xico           99    2  \n",
      "135112          3        99            MÃ©xico           99    2  \n",
      "135113          3        99            MÃ©xico           99   97  \n",
      "135114          3        99            MÃ©xico           99   97  \n",
      "135115          3        99            MÃ©xico           99   97  \n",
      "\n",
      "[135116 rows x 35 columns]\n"
     ]
    }
   ],
   "source": [
    "print(df)"
   ]
  },
  {
   "cell_type": "code",
   "execution_count": null,
   "metadata": {},
   "outputs": [],
   "source": [
    "# HACER TABLA CON SOLO SONORA"
   ]
  },
  {
   "cell_type": "code",
   "execution_count": 77,
   "metadata": {},
   "outputs": [],
   "source": [
    "sonora = df[df['ENTIDAD_UM']==26]"
   ]
  },
  {
   "cell_type": "code",
   "execution_count": null,
   "metadata": {},
   "outputs": [],
   "source": [
    "# HACER TABLA CON PACIENTES HOSPITALIZADOS"
   ]
  },
  {
   "cell_type": "code",
   "execution_count": 78,
   "metadata": {},
   "outputs": [],
   "source": [
    "sonora = sonora[sonora['TIPO_PACIENTE']==2]"
   ]
  },
  {
   "cell_type": "code",
   "execution_count": 79,
   "metadata": {},
   "outputs": [
    {
     "data": {
      "text/html": [
       "<div>\n",
       "<style scoped>\n",
       "    .dataframe tbody tr th:only-of-type {\n",
       "        vertical-align: middle;\n",
       "    }\n",
       "\n",
       "    .dataframe tbody tr th {\n",
       "        vertical-align: top;\n",
       "    }\n",
       "\n",
       "    .dataframe thead th {\n",
       "        text-align: right;\n",
       "    }\n",
       "</style>\n",
       "<table border=\"1\" class=\"dataframe\">\n",
       "  <thead>\n",
       "    <tr style=\"text-align: right;\">\n",
       "      <th></th>\n",
       "      <th>FECHA_ACTUALIZACION</th>\n",
       "      <th>ID_REGISTRO</th>\n",
       "      <th>ORIGEN</th>\n",
       "      <th>SECTOR</th>\n",
       "      <th>ENTIDAD_UM</th>\n",
       "      <th>SEXO</th>\n",
       "      <th>ENTIDAD_NAC</th>\n",
       "      <th>ENTIDAD_RES</th>\n",
       "      <th>MUNICIPIO_RES</th>\n",
       "      <th>TIPO_PACIENTE</th>\n",
       "      <th>...</th>\n",
       "      <th>CARDIOVASCULAR</th>\n",
       "      <th>OBESIDAD</th>\n",
       "      <th>RENAL_CRONICA</th>\n",
       "      <th>TABAQUISMO</th>\n",
       "      <th>OTRO_CASO</th>\n",
       "      <th>RESULTADO</th>\n",
       "      <th>MIGRANTE</th>\n",
       "      <th>PAIS_NACIONALIDAD</th>\n",
       "      <th>PAIS_ORIGEN</th>\n",
       "      <th>UCI</th>\n",
       "    </tr>\n",
       "  </thead>\n",
       "  <tbody>\n",
       "    <tr>\n",
       "      <th>1160</th>\n",
       "      <td>2020-05-11</td>\n",
       "      <td>07b5a7</td>\n",
       "      <td>2</td>\n",
       "      <td>4</td>\n",
       "      <td>26</td>\n",
       "      <td>1</td>\n",
       "      <td>26</td>\n",
       "      <td>26</td>\n",
       "      <td>2</td>\n",
       "      <td>2</td>\n",
       "      <td>...</td>\n",
       "      <td>2</td>\n",
       "      <td>1</td>\n",
       "      <td>2</td>\n",
       "      <td>2</td>\n",
       "      <td>99</td>\n",
       "      <td>1</td>\n",
       "      <td>99</td>\n",
       "      <td>MÃ©xico</td>\n",
       "      <td>99</td>\n",
       "      <td>2</td>\n",
       "    </tr>\n",
       "    <tr>\n",
       "      <th>1751</th>\n",
       "      <td>2020-05-11</td>\n",
       "      <td>0cc8e1</td>\n",
       "      <td>2</td>\n",
       "      <td>4</td>\n",
       "      <td>26</td>\n",
       "      <td>1</td>\n",
       "      <td>26</td>\n",
       "      <td>26</td>\n",
       "      <td>33</td>\n",
       "      <td>2</td>\n",
       "      <td>...</td>\n",
       "      <td>2</td>\n",
       "      <td>1</td>\n",
       "      <td>2</td>\n",
       "      <td>2</td>\n",
       "      <td>99</td>\n",
       "      <td>1</td>\n",
       "      <td>99</td>\n",
       "      <td>MÃ©xico</td>\n",
       "      <td>99</td>\n",
       "      <td>1</td>\n",
       "    </tr>\n",
       "    <tr>\n",
       "      <th>1890</th>\n",
       "      <td>2020-05-11</td>\n",
       "      <td>1ca631</td>\n",
       "      <td>2</td>\n",
       "      <td>4</td>\n",
       "      <td>26</td>\n",
       "      <td>1</td>\n",
       "      <td>26</td>\n",
       "      <td>26</td>\n",
       "      <td>33</td>\n",
       "      <td>2</td>\n",
       "      <td>...</td>\n",
       "      <td>2</td>\n",
       "      <td>2</td>\n",
       "      <td>2</td>\n",
       "      <td>2</td>\n",
       "      <td>99</td>\n",
       "      <td>1</td>\n",
       "      <td>99</td>\n",
       "      <td>MÃ©xico</td>\n",
       "      <td>99</td>\n",
       "      <td>2</td>\n",
       "    </tr>\n",
       "    <tr>\n",
       "      <th>2185</th>\n",
       "      <td>2020-05-11</td>\n",
       "      <td>016b73</td>\n",
       "      <td>2</td>\n",
       "      <td>4</td>\n",
       "      <td>26</td>\n",
       "      <td>2</td>\n",
       "      <td>26</td>\n",
       "      <td>26</td>\n",
       "      <td>29</td>\n",
       "      <td>2</td>\n",
       "      <td>...</td>\n",
       "      <td>2</td>\n",
       "      <td>2</td>\n",
       "      <td>2</td>\n",
       "      <td>2</td>\n",
       "      <td>99</td>\n",
       "      <td>1</td>\n",
       "      <td>99</td>\n",
       "      <td>MÃ©xico</td>\n",
       "      <td>99</td>\n",
       "      <td>2</td>\n",
       "    </tr>\n",
       "    <tr>\n",
       "      <th>2653</th>\n",
       "      <td>2020-05-11</td>\n",
       "      <td>00885a</td>\n",
       "      <td>2</td>\n",
       "      <td>4</td>\n",
       "      <td>26</td>\n",
       "      <td>1</td>\n",
       "      <td>26</td>\n",
       "      <td>26</td>\n",
       "      <td>55</td>\n",
       "      <td>2</td>\n",
       "      <td>...</td>\n",
       "      <td>2</td>\n",
       "      <td>2</td>\n",
       "      <td>2</td>\n",
       "      <td>2</td>\n",
       "      <td>99</td>\n",
       "      <td>1</td>\n",
       "      <td>99</td>\n",
       "      <td>MÃ©xico</td>\n",
       "      <td>99</td>\n",
       "      <td>2</td>\n",
       "    </tr>\n",
       "  </tbody>\n",
       "</table>\n",
       "<p>5 rows × 35 columns</p>\n",
       "</div>"
      ],
      "text/plain": [
       "     FECHA_ACTUALIZACION ID_REGISTRO  ORIGEN  SECTOR  ENTIDAD_UM  SEXO  \\\n",
       "1160          2020-05-11      07b5a7       2       4          26     1   \n",
       "1751          2020-05-11      0cc8e1       2       4          26     1   \n",
       "1890          2020-05-11      1ca631       2       4          26     1   \n",
       "2185          2020-05-11      016b73       2       4          26     2   \n",
       "2653          2020-05-11      00885a       2       4          26     1   \n",
       "\n",
       "      ENTIDAD_NAC  ENTIDAD_RES  MUNICIPIO_RES  TIPO_PACIENTE  ...  \\\n",
       "1160           26           26              2              2  ...   \n",
       "1751           26           26             33              2  ...   \n",
       "1890           26           26             33              2  ...   \n",
       "2185           26           26             29              2  ...   \n",
       "2653           26           26             55              2  ...   \n",
       "\n",
       "     CARDIOVASCULAR OBESIDAD RENAL_CRONICA  TABAQUISMO  OTRO_CASO  RESULTADO  \\\n",
       "1160              2        1             2           2         99          1   \n",
       "1751              2        1             2           2         99          1   \n",
       "1890              2        2             2           2         99          1   \n",
       "2185              2        2             2           2         99          1   \n",
       "2653              2        2             2           2         99          1   \n",
       "\n",
       "      MIGRANTE  PAIS_NACIONALIDAD  PAIS_ORIGEN  UCI  \n",
       "1160        99            MÃ©xico           99    2  \n",
       "1751        99            MÃ©xico           99    1  \n",
       "1890        99            MÃ©xico           99    2  \n",
       "2185        99            MÃ©xico           99    2  \n",
       "2653        99            MÃ©xico           99    2  \n",
       "\n",
       "[5 rows x 35 columns]"
      ]
     },
     "execution_count": 79,
     "metadata": {},
     "output_type": "execute_result"
    }
   ],
   "source": [
    "sonora.head()"
   ]
  },
  {
   "cell_type": "code",
   "execution_count": null,
   "metadata": {},
   "outputs": [],
   "source": [
    "# SACAR EL NUMERO TOTAL DE CASOS QUE SEAN DE SONORA Y HOSPITALIZADOS CON EL NUMERO DE RENGLONES"
   ]
  },
  {
   "cell_type": "code",
   "execution_count": 81,
   "metadata": {},
   "outputs": [
    {
     "data": {
      "text/plain": [
       "549"
      ]
     },
     "execution_count": 81,
     "metadata": {},
     "output_type": "execute_result"
    }
   ],
   "source": [
    "len(sonora)"
   ]
  },
  {
   "cell_type": "code",
   "execution_count": null,
   "metadata": {},
   "outputs": [],
   "source": [
    "# CREAR VARIABLE CON ESE NUMERO"
   ]
  },
  {
   "cell_type": "code",
   "execution_count": 82,
   "metadata": {},
   "outputs": [],
   "source": [
    "sonora = len(sonora)"
   ]
  },
  {
   "cell_type": "code",
   "execution_count": null,
   "metadata": {},
   "outputs": [],
   "source": [
    "# MISMA LOGICA PARA CHIHUAHA, NUEVO LEON Y PUEBLA. LOS NUMERO DE ENTIDAD SE ENCONTRO EN EL CATALOGO."
   ]
  },
  {
   "cell_type": "code",
   "execution_count": 87,
   "metadata": {},
   "outputs": [],
   "source": [
    "chih = df[df['ENTIDAD_UM']==8]"
   ]
  },
  {
   "cell_type": "code",
   "execution_count": 88,
   "metadata": {},
   "outputs": [],
   "source": [
    "chih = chih[chih['TIPO_PACIENTE']==2]"
   ]
  },
  {
   "cell_type": "code",
   "execution_count": 89,
   "metadata": {},
   "outputs": [
    {
     "data": {
      "text/plain": [
       "1013"
      ]
     },
     "execution_count": 89,
     "metadata": {},
     "output_type": "execute_result"
    }
   ],
   "source": [
    "len(chih)"
   ]
  },
  {
   "cell_type": "code",
   "execution_count": 90,
   "metadata": {},
   "outputs": [],
   "source": [
    "chih = len(chih)"
   ]
  },
  {
   "cell_type": "code",
   "execution_count": 91,
   "metadata": {},
   "outputs": [],
   "source": [
    "nl = df[df['ENTIDAD_UM']==19]"
   ]
  },
  {
   "cell_type": "code",
   "execution_count": 92,
   "metadata": {},
   "outputs": [],
   "source": [
    "nl = nl[nl['TIPO_PACIENTE']==2]"
   ]
  },
  {
   "cell_type": "code",
   "execution_count": 93,
   "metadata": {},
   "outputs": [
    {
     "data": {
      "text/plain": [
       "1089"
      ]
     },
     "execution_count": 93,
     "metadata": {},
     "output_type": "execute_result"
    }
   ],
   "source": [
    "len (nl)"
   ]
  },
  {
   "cell_type": "code",
   "execution_count": 94,
   "metadata": {},
   "outputs": [],
   "source": [
    "nl = len(nl)"
   ]
  },
  {
   "cell_type": "code",
   "execution_count": 95,
   "metadata": {},
   "outputs": [
    {
     "data": {
      "text/plain": [
       "1089"
      ]
     },
     "execution_count": 95,
     "metadata": {},
     "output_type": "execute_result"
    }
   ],
   "source": [
    "nl"
   ]
  },
  {
   "cell_type": "code",
   "execution_count": 96,
   "metadata": {},
   "outputs": [],
   "source": [
    "pue = df[df['ENTIDAD_UM']==21]"
   ]
  },
  {
   "cell_type": "code",
   "execution_count": 97,
   "metadata": {},
   "outputs": [],
   "source": [
    "pue = pue[pue['TIPO_PACIENTE']==2]"
   ]
  },
  {
   "cell_type": "code",
   "execution_count": 98,
   "metadata": {},
   "outputs": [
    {
     "data": {
      "text/plain": [
       "1301"
      ]
     },
     "execution_count": 98,
     "metadata": {},
     "output_type": "execute_result"
    }
   ],
   "source": [
    "len(pue)"
   ]
  },
  {
   "cell_type": "code",
   "execution_count": 102,
   "metadata": {},
   "outputs": [],
   "source": [
    "pue = len(pue)"
   ]
  },
  {
   "cell_type": "code",
   "execution_count": null,
   "metadata": {},
   "outputs": [],
   "source": [
    "# CREAR NUEVA TABLA CON DOS COLUMNAS UNA CON EL NOMBRE DE LOOS ESTADOS Y LA OTRA CON EL TOTAL DE CASOS"
   ]
  },
  {
   "cell_type": "code",
   "execution_count": 103,
   "metadata": {},
   "outputs": [],
   "source": [
    "tabla2 = {'Estado':['Sonora','Chihuahua','Nuevo Leon','Puebla'],\n",
    "         'Casos':[sonora,chih,nl,pue]\n",
    "         }"
   ]
  },
  {
   "cell_type": "code",
   "execution_count": 104,
   "metadata": {},
   "outputs": [
    {
     "data": {
      "text/plain": [
       "{'Estado': ['Sonora', 'Chihuahua', 'Nuevo Leon', 'Puebla'],\n",
       " 'Casos': [549, 1013, 1089, 1301]}"
      ]
     },
     "execution_count": 104,
     "metadata": {},
     "output_type": "execute_result"
    }
   ],
   "source": [
    "tabla2"
   ]
  },
  {
   "cell_type": "code",
   "execution_count": null,
   "metadata": {},
   "outputs": [],
   "source": [
    "# CREAR EL DATAFRAME"
   ]
  },
  {
   "cell_type": "code",
   "execution_count": 105,
   "metadata": {},
   "outputs": [],
   "source": [
    "tabla2 = pd.DataFrame(tabla2,columns=['Estado','Casos'])"
   ]
  },
  {
   "cell_type": "code",
   "execution_count": 106,
   "metadata": {},
   "outputs": [
    {
     "data": {
      "text/html": [
       "<div>\n",
       "<style scoped>\n",
       "    .dataframe tbody tr th:only-of-type {\n",
       "        vertical-align: middle;\n",
       "    }\n",
       "\n",
       "    .dataframe tbody tr th {\n",
       "        vertical-align: top;\n",
       "    }\n",
       "\n",
       "    .dataframe thead th {\n",
       "        text-align: right;\n",
       "    }\n",
       "</style>\n",
       "<table border=\"1\" class=\"dataframe\">\n",
       "  <thead>\n",
       "    <tr style=\"text-align: right;\">\n",
       "      <th></th>\n",
       "      <th>Estado</th>\n",
       "      <th>Casos</th>\n",
       "    </tr>\n",
       "  </thead>\n",
       "  <tbody>\n",
       "    <tr>\n",
       "      <th>0</th>\n",
       "      <td>Sonora</td>\n",
       "      <td>549</td>\n",
       "    </tr>\n",
       "    <tr>\n",
       "      <th>1</th>\n",
       "      <td>Chihuahua</td>\n",
       "      <td>1013</td>\n",
       "    </tr>\n",
       "    <tr>\n",
       "      <th>2</th>\n",
       "      <td>Nuevo Leon</td>\n",
       "      <td>1089</td>\n",
       "    </tr>\n",
       "    <tr>\n",
       "      <th>3</th>\n",
       "      <td>Puebla</td>\n",
       "      <td>1301</td>\n",
       "    </tr>\n",
       "  </tbody>\n",
       "</table>\n",
       "</div>"
      ],
      "text/plain": [
       "       Estado  Casos\n",
       "0      Sonora    549\n",
       "1   Chihuahua   1013\n",
       "2  Nuevo Leon   1089\n",
       "3      Puebla   1301"
      ]
     },
     "execution_count": 106,
     "metadata": {},
     "output_type": "execute_result"
    }
   ],
   "source": [
    "tabla2"
   ]
  },
  {
   "cell_type": "code",
   "execution_count": null,
   "metadata": {},
   "outputs": [],
   "source": [
    "# PASAR EL DATA FRAME A UN ARCHIVO CSV"
   ]
  },
  {
   "cell_type": "code",
   "execution_count": 107,
   "metadata": {},
   "outputs": [],
   "source": [
    "tabla2.to_csv('tabla2.csv')"
   ]
  },
  {
   "cell_type": "code",
   "execution_count": null,
   "metadata": {},
   "outputs": [],
   "source": [
    "# GRAFICA DE CASOS POR ESTADO"
   ]
  },
  {
   "cell_type": "code",
   "execution_count": 108,
   "metadata": {},
   "outputs": [
    {
     "data": {
      "text/plain": [
       "<matplotlib.axes._subplots.AxesSubplot at 0x117c82a10>"
      ]
     },
     "execution_count": 108,
     "metadata": {},
     "output_type": "execute_result"
    },
    {
     "data": {
      "image/png": "[encoded data removed]",
      "text/plain": [
       "<Figure size 432x288 with 1 Axes>"
      ]
     },
     "metadata": {
      "needs_background": "light"
     },
     "output_type": "display_data"
    }
   ],
   "source": [
    "tabla2.plot.bar(x)"
   ]
  },
  {
   "cell_type": "code",
   "execution_count": null,
   "metadata": {},
   "outputs": [],
   "source": [
    "# GRAFICA DE CASOS POR ESTADO CON NOMBRES EN EL EJE X"
   ]
  },
  {
   "cell_type": "code",
   "execution_count": 112,
   "metadata": {},
   "outputs": [
    {
     "data": {
      "image/png": "[encoded data removed]",
      "text/plain": [
       "<Figure size 432x288 with 1 Axes>"
      ]
     },
     "metadata": {
      "needs_background": "light"
     },
     "output_type": "display_data"
    }
   ],
   "source": [
    "grafica1 = tabla2.plot(x ='Estado', y='Casos', kind = 'bar')"
   ]
  },
  {
   "cell_type": "code",
   "execution_count": null,
   "metadata": {},
   "outputs": [],
   "source": [
    "# CONVERTIR GRAFICA A UN ARCHIVO PNG"
   ]
  },
  {
   "cell_type": "code",
   "execution_count": 113,
   "metadata": {},
   "outputs": [],
   "source": [
    "grafica1.figure.savefig('grafica1.png')"
   ]
  },
  {
   "cell_type": "code",
   "execution_count": 114,
   "metadata": {},
   "outputs": [
    {
     "data": {
      "text/html": [
       "<div>\n",
       "<style scoped>\n",
       "    .dataframe tbody tr th:only-of-type {\n",
       "        vertical-align: middle;\n",
       "    }\n",
       "\n",
       "    .dataframe tbody tr th {\n",
       "        vertical-align: top;\n",
       "    }\n",
       "\n",
       "    .dataframe thead th {\n",
       "        text-align: right;\n",
       "    }\n",
       "</style>\n",
       "<table border=\"1\" class=\"dataframe\">\n",
       "  <thead>\n",
       "    <tr style=\"text-align: right;\">\n",
       "      <th></th>\n",
       "      <th>FECHA_ACTUALIZACION</th>\n",
       "      <th>ID_REGISTRO</th>\n",
       "      <th>ORIGEN</th>\n",
       "      <th>SECTOR</th>\n",
       "      <th>ENTIDAD_UM</th>\n",
       "      <th>SEXO</th>\n",
       "      <th>ENTIDAD_NAC</th>\n",
       "      <th>ENTIDAD_RES</th>\n",
       "      <th>MUNICIPIO_RES</th>\n",
       "      <th>TIPO_PACIENTE</th>\n",
       "      <th>...</th>\n",
       "      <th>CARDIOVASCULAR</th>\n",
       "      <th>OBESIDAD</th>\n",
       "      <th>RENAL_CRONICA</th>\n",
       "      <th>TABAQUISMO</th>\n",
       "      <th>OTRO_CASO</th>\n",
       "      <th>RESULTADO</th>\n",
       "      <th>MIGRANTE</th>\n",
       "      <th>PAIS_NACIONALIDAD</th>\n",
       "      <th>PAIS_ORIGEN</th>\n",
       "      <th>UCI</th>\n",
       "    </tr>\n",
       "  </thead>\n",
       "  <tbody>\n",
       "    <tr>\n",
       "      <th>0</th>\n",
       "      <td>2020-05-11</td>\n",
       "      <td>07f569</td>\n",
       "      <td>2</td>\n",
       "      <td>3</td>\n",
       "      <td>27</td>\n",
       "      <td>2</td>\n",
       "      <td>27</td>\n",
       "      <td>27</td>\n",
       "      <td>4</td>\n",
       "      <td>1</td>\n",
       "      <td>...</td>\n",
       "      <td>1</td>\n",
       "      <td>2</td>\n",
       "      <td>2</td>\n",
       "      <td>2</td>\n",
       "      <td>1</td>\n",
       "      <td>1</td>\n",
       "      <td>99</td>\n",
       "      <td>MÃ©xico</td>\n",
       "      <td>99</td>\n",
       "      <td>97</td>\n",
       "    </tr>\n",
       "    <tr>\n",
       "      <th>1</th>\n",
       "      <td>2020-05-11</td>\n",
       "      <td>0b0e89</td>\n",
       "      <td>2</td>\n",
       "      <td>3</td>\n",
       "      <td>25</td>\n",
       "      <td>2</td>\n",
       "      <td>25</td>\n",
       "      <td>25</td>\n",
       "      <td>6</td>\n",
       "      <td>2</td>\n",
       "      <td>...</td>\n",
       "      <td>2</td>\n",
       "      <td>2</td>\n",
       "      <td>2</td>\n",
       "      <td>1</td>\n",
       "      <td>2</td>\n",
       "      <td>1</td>\n",
       "      <td>99</td>\n",
       "      <td>MÃ©xico</td>\n",
       "      <td>99</td>\n",
       "      <td>2</td>\n",
       "    </tr>\n",
       "    <tr>\n",
       "      <th>2</th>\n",
       "      <td>2020-05-11</td>\n",
       "      <td>0ecd46</td>\n",
       "      <td>2</td>\n",
       "      <td>3</td>\n",
       "      <td>27</td>\n",
       "      <td>1</td>\n",
       "      <td>27</td>\n",
       "      <td>27</td>\n",
       "      <td>4</td>\n",
       "      <td>1</td>\n",
       "      <td>...</td>\n",
       "      <td>2</td>\n",
       "      <td>2</td>\n",
       "      <td>2</td>\n",
       "      <td>2</td>\n",
       "      <td>2</td>\n",
       "      <td>1</td>\n",
       "      <td>99</td>\n",
       "      <td>MÃ©xico</td>\n",
       "      <td>99</td>\n",
       "      <td>97</td>\n",
       "    </tr>\n",
       "    <tr>\n",
       "      <th>3</th>\n",
       "      <td>2020-05-11</td>\n",
       "      <td>12eb62</td>\n",
       "      <td>2</td>\n",
       "      <td>3</td>\n",
       "      <td>25</td>\n",
       "      <td>1</td>\n",
       "      <td>25</td>\n",
       "      <td>25</td>\n",
       "      <td>6</td>\n",
       "      <td>2</td>\n",
       "      <td>...</td>\n",
       "      <td>2</td>\n",
       "      <td>2</td>\n",
       "      <td>2</td>\n",
       "      <td>2</td>\n",
       "      <td>2</td>\n",
       "      <td>1</td>\n",
       "      <td>99</td>\n",
       "      <td>MÃ©xico</td>\n",
       "      <td>99</td>\n",
       "      <td>2</td>\n",
       "    </tr>\n",
       "    <tr>\n",
       "      <th>4</th>\n",
       "      <td>2020-05-11</td>\n",
       "      <td>032c9a</td>\n",
       "      <td>2</td>\n",
       "      <td>3</td>\n",
       "      <td>25</td>\n",
       "      <td>2</td>\n",
       "      <td>25</td>\n",
       "      <td>25</td>\n",
       "      <td>6</td>\n",
       "      <td>2</td>\n",
       "      <td>...</td>\n",
       "      <td>2</td>\n",
       "      <td>2</td>\n",
       "      <td>2</td>\n",
       "      <td>2</td>\n",
       "      <td>2</td>\n",
       "      <td>1</td>\n",
       "      <td>99</td>\n",
       "      <td>MÃ©xico</td>\n",
       "      <td>99</td>\n",
       "      <td>2</td>\n",
       "    </tr>\n",
       "  </tbody>\n",
       "</table>\n",
       "<p>5 rows × 35 columns</p>\n",
       "</div>"
      ],
      "text/plain": [
       "  FECHA_ACTUALIZACION ID_REGISTRO  ORIGEN  SECTOR  ENTIDAD_UM  SEXO  \\\n",
       "0          2020-05-11      07f569       2       3          27     2   \n",
       "1          2020-05-11      0b0e89       2       3          25     2   \n",
       "2          2020-05-11      0ecd46       2       3          27     1   \n",
       "3          2020-05-11      12eb62       2       3          25     1   \n",
       "4          2020-05-11      032c9a       2       3          25     2   \n",
       "\n",
       "   ENTIDAD_NAC  ENTIDAD_RES  MUNICIPIO_RES  TIPO_PACIENTE  ... CARDIOVASCULAR  \\\n",
       "0           27           27              4              1  ...              1   \n",
       "1           25           25              6              2  ...              2   \n",
       "2           27           27              4              1  ...              2   \n",
       "3           25           25              6              2  ...              2   \n",
       "4           25           25              6              2  ...              2   \n",
       "\n",
       "  OBESIDAD RENAL_CRONICA  TABAQUISMO  OTRO_CASO  RESULTADO  MIGRANTE  \\\n",
       "0        2             2           2          1          1        99   \n",
       "1        2             2           1          2          1        99   \n",
       "2        2             2           2          2          1        99   \n",
       "3        2             2           2          2          1        99   \n",
       "4        2             2           2          2          1        99   \n",
       "\n",
       "   PAIS_NACIONALIDAD  PAIS_ORIGEN  UCI  \n",
       "0            MÃ©xico           99   97  \n",
       "1            MÃ©xico           99    2  \n",
       "2            MÃ©xico           99   97  \n",
       "3            MÃ©xico           99    2  \n",
       "4            MÃ©xico           99    2  \n",
       "\n",
       "[5 rows x 35 columns]"
      ]
     },
     "execution_count": 114,
     "metadata": {},
     "output_type": "execute_result"
    }
   ],
   "source": [
    "df.head()"
   ]
  },
  {
   "cell_type": "code",
   "execution_count": null,
   "metadata": {},
   "outputs": [],
   "source": [
    "# CONFIRMAR QUE FECHA DE INGRESO TENGA FORMATO DE FECHA"
   ]
  },
  {
   "cell_type": "code",
   "execution_count": 115,
   "metadata": {},
   "outputs": [
    {
     "data": {
      "text/plain": [
       "FECHA_ACTUALIZACION    object\n",
       "ID_REGISTRO            object\n",
       "ORIGEN                  int64\n",
       "SECTOR                  int64\n",
       "ENTIDAD_UM              int64\n",
       "SEXO                    int64\n",
       "ENTIDAD_NAC             int64\n",
       "ENTIDAD_RES             int64\n",
       "MUNICIPIO_RES           int64\n",
       "TIPO_PACIENTE           int64\n",
       "FECHA_INGRESO          object\n",
       "FECHA_SINTOMAS         object\n",
       "FECHA_DEF              object\n",
       "INTUBADO                int64\n",
       "NEUMONIA                int64\n",
       "EDAD                    int64\n",
       "NACIONALIDAD            int64\n",
       "EMBARAZO                int64\n",
       "HABLA_LENGUA_INDIG      int64\n",
       "DIABETES                int64\n",
       "EPOC                    int64\n",
       "ASMA                    int64\n",
       "INMUSUPR                int64\n",
       "HIPERTENSION            int64\n",
       "OTRA_COM                int64\n",
       "CARDIOVASCULAR          int64\n",
       "OBESIDAD                int64\n",
       "RENAL_CRONICA           int64\n",
       "TABAQUISMO              int64\n",
       "OTRO_CASO               int64\n",
       "RESULTADO               int64\n",
       "MIGRANTE                int64\n",
       "PAIS_NACIONALIDAD      object\n",
       "PAIS_ORIGEN            object\n",
       "UCI                     int64\n",
       "dtype: object"
      ]
     },
     "execution_count": 115,
     "metadata": {},
     "output_type": "execute_result"
    }
   ],
   "source": [
    "df.dtypes"
   ]
  },
  {
   "cell_type": "code",
   "execution_count": 118,
   "metadata": {},
   "outputs": [
    {
     "data": {
      "text/plain": [
       "0        2020-04-03\n",
       "1        2020-03-25\n",
       "2        2020-03-27\n",
       "3        2020-04-05\n",
       "4        2020-04-07\n",
       "            ...    \n",
       "135111   2020-05-10\n",
       "135112   2020-05-10\n",
       "135113   2020-05-11\n",
       "135114   2020-05-11\n",
       "135115   2020-03-31\n",
       "Name: FECHA_INGRESO, Length: 135116, dtype: datetime64[ns]"
      ]
     },
     "execution_count": 118,
     "metadata": {},
     "output_type": "execute_result"
    }
   ],
   "source": [
    "pd.to_datetime(df['FECHA_INGRESO'])"
   ]
  },
  {
   "cell_type": "code",
   "execution_count": 119,
   "metadata": {},
   "outputs": [
    {
     "data": {
      "text/plain": [
       "FECHA_ACTUALIZACION    object\n",
       "ID_REGISTRO            object\n",
       "ORIGEN                  int64\n",
       "SECTOR                  int64\n",
       "ENTIDAD_UM              int64\n",
       "SEXO                    int64\n",
       "ENTIDAD_NAC             int64\n",
       "ENTIDAD_RES             int64\n",
       "MUNICIPIO_RES           int64\n",
       "TIPO_PACIENTE           int64\n",
       "FECHA_INGRESO          object\n",
       "FECHA_SINTOMAS         object\n",
       "FECHA_DEF              object\n",
       "INTUBADO                int64\n",
       "NEUMONIA                int64\n",
       "EDAD                    int64\n",
       "NACIONALIDAD            int64\n",
       "EMBARAZO                int64\n",
       "HABLA_LENGUA_INDIG      int64\n",
       "DIABETES                int64\n",
       "EPOC                    int64\n",
       "ASMA                    int64\n",
       "INMUSUPR                int64\n",
       "HIPERTENSION            int64\n",
       "OTRA_COM                int64\n",
       "CARDIOVASCULAR          int64\n",
       "OBESIDAD                int64\n",
       "RENAL_CRONICA           int64\n",
       "TABAQUISMO              int64\n",
       "OTRO_CASO               int64\n",
       "RESULTADO               int64\n",
       "MIGRANTE                int64\n",
       "PAIS_NACIONALIDAD      object\n",
       "PAIS_ORIGEN            object\n",
       "UCI                     int64\n",
       "dtype: object"
      ]
     },
     "execution_count": 119,
     "metadata": {},
     "output_type": "execute_result"
    }
   ],
   "source": [
    "df.dtypes"
   ]
  },
  {
   "cell_type": "code",
   "execution_count": 132,
   "metadata": {},
   "outputs": [
    {
     "data": {
      "text/html": [
       "<div>\n",
       "<style scoped>\n",
       "    .dataframe tbody tr th:only-of-type {\n",
       "        vertical-align: middle;\n",
       "    }\n",
       "\n",
       "    .dataframe tbody tr th {\n",
       "        vertical-align: top;\n",
       "    }\n",
       "\n",
       "    .dataframe thead th {\n",
       "        text-align: right;\n",
       "    }\n",
       "</style>\n",
       "<table border=\"1\" class=\"dataframe\">\n",
       "  <thead>\n",
       "    <tr style=\"text-align: right;\">\n",
       "      <th></th>\n",
       "      <th>FECHA_ACTUALIZACION</th>\n",
       "      <th>ID_REGISTRO</th>\n",
       "      <th>ORIGEN</th>\n",
       "      <th>SECTOR</th>\n",
       "      <th>ENTIDAD_UM</th>\n",
       "      <th>SEXO</th>\n",
       "      <th>ENTIDAD_NAC</th>\n",
       "      <th>ENTIDAD_RES</th>\n",
       "      <th>MUNICIPIO_RES</th>\n",
       "      <th>TIPO_PACIENTE</th>\n",
       "      <th>...</th>\n",
       "      <th>CARDIOVASCULAR</th>\n",
       "      <th>OBESIDAD</th>\n",
       "      <th>RENAL_CRONICA</th>\n",
       "      <th>TABAQUISMO</th>\n",
       "      <th>OTRO_CASO</th>\n",
       "      <th>RESULTADO</th>\n",
       "      <th>MIGRANTE</th>\n",
       "      <th>PAIS_NACIONALIDAD</th>\n",
       "      <th>PAIS_ORIGEN</th>\n",
       "      <th>UCI</th>\n",
       "    </tr>\n",
       "  </thead>\n",
       "  <tbody>\n",
       "    <tr>\n",
       "      <th>0</th>\n",
       "      <td>2020-05-11</td>\n",
       "      <td>07f569</td>\n",
       "      <td>2</td>\n",
       "      <td>3</td>\n",
       "      <td>27</td>\n",
       "      <td>2</td>\n",
       "      <td>27</td>\n",
       "      <td>27</td>\n",
       "      <td>4</td>\n",
       "      <td>1</td>\n",
       "      <td>...</td>\n",
       "      <td>1</td>\n",
       "      <td>2</td>\n",
       "      <td>2</td>\n",
       "      <td>2</td>\n",
       "      <td>1</td>\n",
       "      <td>1</td>\n",
       "      <td>99</td>\n",
       "      <td>MÃ©xico</td>\n",
       "      <td>99</td>\n",
       "      <td>97</td>\n",
       "    </tr>\n",
       "    <tr>\n",
       "      <th>1</th>\n",
       "      <td>2020-05-11</td>\n",
       "      <td>0b0e89</td>\n",
       "      <td>2</td>\n",
       "      <td>3</td>\n",
       "      <td>25</td>\n",
       "      <td>2</td>\n",
       "      <td>25</td>\n",
       "      <td>25</td>\n",
       "      <td>6</td>\n",
       "      <td>2</td>\n",
       "      <td>...</td>\n",
       "      <td>2</td>\n",
       "      <td>2</td>\n",
       "      <td>2</td>\n",
       "      <td>1</td>\n",
       "      <td>2</td>\n",
       "      <td>1</td>\n",
       "      <td>99</td>\n",
       "      <td>MÃ©xico</td>\n",
       "      <td>99</td>\n",
       "      <td>2</td>\n",
       "    </tr>\n",
       "    <tr>\n",
       "      <th>2</th>\n",
       "      <td>2020-05-11</td>\n",
       "      <td>0ecd46</td>\n",
       "      <td>2</td>\n",
       "      <td>3</td>\n",
       "      <td>27</td>\n",
       "      <td>1</td>\n",
       "      <td>27</td>\n",
       "      <td>27</td>\n",
       "      <td>4</td>\n",
       "      <td>1</td>\n",
       "      <td>...</td>\n",
       "      <td>2</td>\n",
       "      <td>2</td>\n",
       "      <td>2</td>\n",
       "      <td>2</td>\n",
       "      <td>2</td>\n",
       "      <td>1</td>\n",
       "      <td>99</td>\n",
       "      <td>MÃ©xico</td>\n",
       "      <td>99</td>\n",
       "      <td>97</td>\n",
       "    </tr>\n",
       "    <tr>\n",
       "      <th>3</th>\n",
       "      <td>2020-05-11</td>\n",
       "      <td>12eb62</td>\n",
       "      <td>2</td>\n",
       "      <td>3</td>\n",
       "      <td>25</td>\n",
       "      <td>1</td>\n",
       "      <td>25</td>\n",
       "      <td>25</td>\n",
       "      <td>6</td>\n",
       "      <td>2</td>\n",
       "      <td>...</td>\n",
       "      <td>2</td>\n",
       "      <td>2</td>\n",
       "      <td>2</td>\n",
       "      <td>2</td>\n",
       "      <td>2</td>\n",
       "      <td>1</td>\n",
       "      <td>99</td>\n",
       "      <td>MÃ©xico</td>\n",
       "      <td>99</td>\n",
       "      <td>2</td>\n",
       "    </tr>\n",
       "    <tr>\n",
       "      <th>4</th>\n",
       "      <td>2020-05-11</td>\n",
       "      <td>032c9a</td>\n",
       "      <td>2</td>\n",
       "      <td>3</td>\n",
       "      <td>25</td>\n",
       "      <td>2</td>\n",
       "      <td>25</td>\n",
       "      <td>25</td>\n",
       "      <td>6</td>\n",
       "      <td>2</td>\n",
       "      <td>...</td>\n",
       "      <td>2</td>\n",
       "      <td>2</td>\n",
       "      <td>2</td>\n",
       "      <td>2</td>\n",
       "      <td>2</td>\n",
       "      <td>1</td>\n",
       "      <td>99</td>\n",
       "      <td>MÃ©xico</td>\n",
       "      <td>99</td>\n",
       "      <td>2</td>\n",
       "    </tr>\n",
       "    <tr>\n",
       "      <th>...</th>\n",
       "      <td>...</td>\n",
       "      <td>...</td>\n",
       "      <td>...</td>\n",
       "      <td>...</td>\n",
       "      <td>...</td>\n",
       "      <td>...</td>\n",
       "      <td>...</td>\n",
       "      <td>...</td>\n",
       "      <td>...</td>\n",
       "      <td>...</td>\n",
       "      <td>...</td>\n",
       "      <td>...</td>\n",
       "      <td>...</td>\n",
       "      <td>...</td>\n",
       "      <td>...</td>\n",
       "      <td>...</td>\n",
       "      <td>...</td>\n",
       "      <td>...</td>\n",
       "      <td>...</td>\n",
       "      <td>...</td>\n",
       "      <td>...</td>\n",
       "    </tr>\n",
       "    <tr>\n",
       "      <th>135111</th>\n",
       "      <td>2020-05-11</td>\n",
       "      <td>07f104</td>\n",
       "      <td>1</td>\n",
       "      <td>12</td>\n",
       "      <td>9</td>\n",
       "      <td>1</td>\n",
       "      <td>15</td>\n",
       "      <td>9</td>\n",
       "      <td>5</td>\n",
       "      <td>2</td>\n",
       "      <td>...</td>\n",
       "      <td>2</td>\n",
       "      <td>2</td>\n",
       "      <td>2</td>\n",
       "      <td>2</td>\n",
       "      <td>2</td>\n",
       "      <td>3</td>\n",
       "      <td>99</td>\n",
       "      <td>MÃ©xico</td>\n",
       "      <td>99</td>\n",
       "      <td>2</td>\n",
       "    </tr>\n",
       "    <tr>\n",
       "      <th>135112</th>\n",
       "      <td>2020-05-11</td>\n",
       "      <td>164d88</td>\n",
       "      <td>1</td>\n",
       "      <td>12</td>\n",
       "      <td>4</td>\n",
       "      <td>1</td>\n",
       "      <td>4</td>\n",
       "      <td>4</td>\n",
       "      <td>2</td>\n",
       "      <td>2</td>\n",
       "      <td>...</td>\n",
       "      <td>2</td>\n",
       "      <td>2</td>\n",
       "      <td>2</td>\n",
       "      <td>2</td>\n",
       "      <td>2</td>\n",
       "      <td>3</td>\n",
       "      <td>99</td>\n",
       "      <td>MÃ©xico</td>\n",
       "      <td>99</td>\n",
       "      <td>2</td>\n",
       "    </tr>\n",
       "    <tr>\n",
       "      <th>135113</th>\n",
       "      <td>2020-05-11</td>\n",
       "      <td>0fdace</td>\n",
       "      <td>1</td>\n",
       "      <td>12</td>\n",
       "      <td>5</td>\n",
       "      <td>1</td>\n",
       "      <td>5</td>\n",
       "      <td>5</td>\n",
       "      <td>30</td>\n",
       "      <td>1</td>\n",
       "      <td>...</td>\n",
       "      <td>2</td>\n",
       "      <td>2</td>\n",
       "      <td>2</td>\n",
       "      <td>2</td>\n",
       "      <td>1</td>\n",
       "      <td>3</td>\n",
       "      <td>99</td>\n",
       "      <td>MÃ©xico</td>\n",
       "      <td>99</td>\n",
       "      <td>97</td>\n",
       "    </tr>\n",
       "    <tr>\n",
       "      <th>135114</th>\n",
       "      <td>2020-05-11</td>\n",
       "      <td>028993</td>\n",
       "      <td>1</td>\n",
       "      <td>12</td>\n",
       "      <td>31</td>\n",
       "      <td>1</td>\n",
       "      <td>30</td>\n",
       "      <td>31</td>\n",
       "      <td>102</td>\n",
       "      <td>1</td>\n",
       "      <td>...</td>\n",
       "      <td>2</td>\n",
       "      <td>2</td>\n",
       "      <td>2</td>\n",
       "      <td>2</td>\n",
       "      <td>2</td>\n",
       "      <td>3</td>\n",
       "      <td>99</td>\n",
       "      <td>MÃ©xico</td>\n",
       "      <td>99</td>\n",
       "      <td>97</td>\n",
       "    </tr>\n",
       "    <tr>\n",
       "      <th>135115</th>\n",
       "      <td>2020-05-11</td>\n",
       "      <td>13238a</td>\n",
       "      <td>1</td>\n",
       "      <td>13</td>\n",
       "      <td>21</td>\n",
       "      <td>2</td>\n",
       "      <td>21</td>\n",
       "      <td>21</td>\n",
       "      <td>114</td>\n",
       "      <td>1</td>\n",
       "      <td>...</td>\n",
       "      <td>2</td>\n",
       "      <td>2</td>\n",
       "      <td>2</td>\n",
       "      <td>2</td>\n",
       "      <td>1</td>\n",
       "      <td>3</td>\n",
       "      <td>99</td>\n",
       "      <td>MÃ©xico</td>\n",
       "      <td>99</td>\n",
       "      <td>97</td>\n",
       "    </tr>\n",
       "  </tbody>\n",
       "</table>\n",
       "<p>135116 rows × 35 columns</p>\n",
       "</div>"
      ],
      "text/plain": [
       "       FECHA_ACTUALIZACION ID_REGISTRO  ORIGEN  SECTOR  ENTIDAD_UM  SEXO  \\\n",
       "0               2020-05-11      07f569       2       3          27     2   \n",
       "1               2020-05-11      0b0e89       2       3          25     2   \n",
       "2               2020-05-11      0ecd46       2       3          27     1   \n",
       "3               2020-05-11      12eb62       2       3          25     1   \n",
       "4               2020-05-11      032c9a       2       3          25     2   \n",
       "...                    ...         ...     ...     ...         ...   ...   \n",
       "135111          2020-05-11      07f104       1      12           9     1   \n",
       "135112          2020-05-11      164d88       1      12           4     1   \n",
       "135113          2020-05-11      0fdace       1      12           5     1   \n",
       "135114          2020-05-11      028993       1      12          31     1   \n",
       "135115          2020-05-11      13238a       1      13          21     2   \n",
       "\n",
       "        ENTIDAD_NAC  ENTIDAD_RES  MUNICIPIO_RES  TIPO_PACIENTE  ...  \\\n",
       "0                27           27              4              1  ...   \n",
       "1                25           25              6              2  ...   \n",
       "2                27           27              4              1  ...   \n",
       "3                25           25              6              2  ...   \n",
       "4                25           25              6              2  ...   \n",
       "...             ...          ...            ...            ...  ...   \n",
       "135111           15            9              5              2  ...   \n",
       "135112            4            4              2              2  ...   \n",
       "135113            5            5             30              1  ...   \n",
       "135114           30           31            102              1  ...   \n",
       "135115           21           21            114              1  ...   \n",
       "\n",
       "       CARDIOVASCULAR OBESIDAD RENAL_CRONICA  TABAQUISMO  OTRO_CASO  \\\n",
       "0                   1        2             2           2          1   \n",
       "1                   2        2             2           1          2   \n",
       "2                   2        2             2           2          2   \n",
       "3                   2        2             2           2          2   \n",
       "4                   2        2             2           2          2   \n",
       "...               ...      ...           ...         ...        ...   \n",
       "135111              2        2             2           2          2   \n",
       "135112              2        2             2           2          2   \n",
       "135113              2        2             2           2          1   \n",
       "135114              2        2             2           2          2   \n",
       "135115              2        2             2           2          1   \n",
       "\n",
       "        RESULTADO  MIGRANTE  PAIS_NACIONALIDAD  PAIS_ORIGEN  UCI  \n",
       "0               1        99            MÃ©xico           99   97  \n",
       "1               1        99            MÃ©xico           99    2  \n",
       "2               1        99            MÃ©xico           99   97  \n",
       "3               1        99            MÃ©xico           99    2  \n",
       "4               1        99            MÃ©xico           99    2  \n",
       "...           ...       ...                ...          ...  ...  \n",
       "135111          3        99            MÃ©xico           99    2  \n",
       "135112          3        99            MÃ©xico           99    2  \n",
       "135113          3        99            MÃ©xico           99   97  \n",
       "135114          3        99            MÃ©xico           99   97  \n",
       "135115          3        99            MÃ©xico           99   97  \n",
       "\n",
       "[135116 rows x 35 columns]"
      ]
     },
     "execution_count": 132,
     "metadata": {},
     "output_type": "execute_result"
    }
   ],
   "source": [
    "df"
   ]
  },
  {
   "cell_type": "code",
   "execution_count": null,
   "metadata": {},
   "outputs": [],
   "source": [
    "# CREAR NUEVA TABLA CON PUROS CASOS POSITIVOS"
   ]
  },
  {
   "cell_type": "code",
   "execution_count": 133,
   "metadata": {},
   "outputs": [],
   "source": [
    "dfpos = df[df['RESULTADO']==1]"
   ]
  },
  {
   "cell_type": "code",
   "execution_count": null,
   "metadata": {},
   "outputs": [],
   "source": [
    "# CREAR TABLA CON DOS COLUMNAS, FECHA DE INGRESO Y POSITIVOS"
   ]
  },
  {
   "cell_type": "code",
   "execution_count": 136,
   "metadata": {},
   "outputs": [],
   "source": [
    "positivos = dfpos[['FECHA_INGRESO','RESULTADO']]"
   ]
  },
  {
   "cell_type": "code",
   "execution_count": null,
   "metadata": {},
   "outputs": [],
   "source": [
    "# AGRUPAR POR FECHA EL TOTAL DE CASOS POSITIVOS POR CADA FECHA"
   ]
  },
  {
   "cell_type": "code",
   "execution_count": 144,
   "metadata": {},
   "outputs": [],
   "source": [
    "casos = positivos.groupby('FECHA_INGRESO')['RESULTADO'].sum()"
   ]
  },
  {
   "cell_type": "code",
   "execution_count": 145,
   "metadata": {},
   "outputs": [
    {
     "name": "stdout",
     "output_type": "stream",
     "text": [
      "FECHA_INGRESO\n",
      "2020-01-08      1\n",
      "2020-01-14      1\n",
      "2020-01-28      1\n",
      "2020-01-31      1\n",
      "2020-02-07      1\n",
      "             ... \n",
      "2020-05-07    999\n",
      "2020-05-08    671\n",
      "2020-05-09    299\n",
      "2020-05-10     89\n",
      "2020-05-11      3\n",
      "Name: RESULTADO, Length: 78, dtype: int64\n"
     ]
    }
   ],
   "source": [
    "print (casos)"
   ]
  },
  {
   "cell_type": "code",
   "execution_count": null,
   "metadata": {},
   "outputs": [],
   "source": [
    "# GRAFICAR EN GRANDE"
   ]
  },
  {
   "cell_type": "code",
   "execution_count": 149,
   "metadata": {},
   "outputs": [
    {
     "data": {
      "image/png": "[encoded data removed]",
      "text/plain": [
       "<Figure size 1440x720 with 1 Axes>"
      ]
     },
     "metadata": {
      "needs_background": "light"
     },
     "output_type": "display_data"
    }
   ],
   "source": [
    "grafica2 = casos.plot(x='FECHA_INGRESO', figsize=(20,10))"
   ]
  },
  {
   "cell_type": "code",
   "execution_count": null,
   "metadata": {},
   "outputs": [],
   "source": [
    "# GUARDAR COMO ARCHIVO PNG"
   ]
  },
  {
   "cell_type": "code",
   "execution_count": 150,
   "metadata": {},
   "outputs": [],
   "source": [
    "grafica2.figure.savefig('grafica2.png')"
   ]
  },
  {
   "cell_type": "code",
   "execution_count": null,
   "metadata": {},
   "outputs": [],
   "source": []
  }
 ],
 "metadata": {
  "kernelspec": {
   "display_name": "Python 3",
   "language": "python",
   "name": "python3"
  },
  "language_info": {
   "codemirror_mode": {
    "name": "ipython",
    "version": 3
   },
   "file_extension": ".py",
   "mimetype": "text/x-python",
   "name": "python",
   "nbconvert_exporter": "python",
   "pygments_lexer": "ipython3",
   "version": "3.7.6"
  }
 },
 "nbformat": 4,
 "nbformat_minor": 4
}
